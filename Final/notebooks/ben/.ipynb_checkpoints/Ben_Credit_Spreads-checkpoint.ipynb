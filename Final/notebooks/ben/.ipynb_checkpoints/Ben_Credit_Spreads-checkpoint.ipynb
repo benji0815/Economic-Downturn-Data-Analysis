{
 "cells": [
  {
   "cell_type": "markdown",
   "metadata": {},
   "source": [
    "# Corportate Bond Spreads Exploratory Notebook"
   ]
  },
  {
   "cell_type": "markdown",
   "metadata": {},
   "source": [
    "## Importing dependencies"
   ]
  },
  {
   "cell_type": "code",
   "execution_count": 1,
   "metadata": {},
   "outputs": [],
   "source": [
    "import pandas as pd\n",
    "from datetime import datetime\n",
    "import matplotlib.pyplot as plt\n",
    "from pandas.plotting import register_matplotlib_converters\n",
    "register_matplotlib_converters()\n",
    "import scipy"
   ]
  },
  {
   "cell_type": "code",
   "execution_count": 2,
   "metadata": {},
   "outputs": [
    {
     "ename": "FileNotFoundError",
     "evalue": "[Errno 2] File b'Corp_Bond_AAA.csv' does not exist: b'Corp_Bond_AAA.csv'",
     "output_type": "error",
     "traceback": [
      "\u001b[1;31m---------------------------------------------------------------------------\u001b[0m",
      "\u001b[1;31mFileNotFoundError\u001b[0m                         Traceback (most recent call last)",
      "\u001b[1;32m<ipython-input-2-7e630a4e42b6>\u001b[0m in \u001b[0;36m<module>\u001b[1;34m\u001b[0m\n\u001b[0;32m      7\u001b[0m \u001b[1;33m\u001b[0m\u001b[0m\n\u001b[0;32m      8\u001b[0m \u001b[1;31m# Bond Data\u001b[0m\u001b[1;33m\u001b[0m\u001b[1;33m\u001b[0m\u001b[1;33m\u001b[0m\u001b[0m\n\u001b[1;32m----> 9\u001b[1;33m \u001b[0mCorp_Bond_AAA_df\u001b[0m\u001b[1;33m=\u001b[0m \u001b[0mpd\u001b[0m\u001b[1;33m.\u001b[0m\u001b[0mread_csv\u001b[0m\u001b[1;33m(\u001b[0m\u001b[0mAAA\u001b[0m\u001b[1;33m)\u001b[0m\u001b[1;33m\u001b[0m\u001b[1;33m\u001b[0m\u001b[0m\n\u001b[0m\u001b[0;32m     10\u001b[0m \u001b[0mCorp_Bond_BBB_df\u001b[0m\u001b[1;33m=\u001b[0m \u001b[0mpd\u001b[0m\u001b[1;33m.\u001b[0m\u001b[0mread_csv\u001b[0m\u001b[1;33m(\u001b[0m\u001b[0mBBB\u001b[0m\u001b[1;33m)\u001b[0m\u001b[1;33m\u001b[0m\u001b[1;33m\u001b[0m\u001b[0m\n\u001b[0;32m     11\u001b[0m \u001b[0mCorp_Bond_B_df\u001b[0m\u001b[1;33m=\u001b[0m \u001b[0mpd\u001b[0m\u001b[1;33m.\u001b[0m\u001b[0mread_csv\u001b[0m\u001b[1;33m(\u001b[0m\u001b[0mB\u001b[0m\u001b[1;33m)\u001b[0m\u001b[1;33m\u001b[0m\u001b[1;33m\u001b[0m\u001b[0m\n",
      "\u001b[1;32m~\\Anaconda3\\lib\\site-packages\\pandas\\io\\parsers.py\u001b[0m in \u001b[0;36mparser_f\u001b[1;34m(filepath_or_buffer, sep, delimiter, header, names, index_col, usecols, squeeze, prefix, mangle_dupe_cols, dtype, engine, converters, true_values, false_values, skipinitialspace, skiprows, skipfooter, nrows, na_values, keep_default_na, na_filter, verbose, skip_blank_lines, parse_dates, infer_datetime_format, keep_date_col, date_parser, dayfirst, cache_dates, iterator, chunksize, compression, thousands, decimal, lineterminator, quotechar, quoting, doublequote, escapechar, comment, encoding, dialect, error_bad_lines, warn_bad_lines, delim_whitespace, low_memory, memory_map, float_precision)\u001b[0m\n\u001b[0;32m    683\u001b[0m         )\n\u001b[0;32m    684\u001b[0m \u001b[1;33m\u001b[0m\u001b[0m\n\u001b[1;32m--> 685\u001b[1;33m         \u001b[1;32mreturn\u001b[0m \u001b[0m_read\u001b[0m\u001b[1;33m(\u001b[0m\u001b[0mfilepath_or_buffer\u001b[0m\u001b[1;33m,\u001b[0m \u001b[0mkwds\u001b[0m\u001b[1;33m)\u001b[0m\u001b[1;33m\u001b[0m\u001b[1;33m\u001b[0m\u001b[0m\n\u001b[0m\u001b[0;32m    686\u001b[0m \u001b[1;33m\u001b[0m\u001b[0m\n\u001b[0;32m    687\u001b[0m     \u001b[0mparser_f\u001b[0m\u001b[1;33m.\u001b[0m\u001b[0m__name__\u001b[0m \u001b[1;33m=\u001b[0m \u001b[0mname\u001b[0m\u001b[1;33m\u001b[0m\u001b[1;33m\u001b[0m\u001b[0m\n",
      "\u001b[1;32m~\\Anaconda3\\lib\\site-packages\\pandas\\io\\parsers.py\u001b[0m in \u001b[0;36m_read\u001b[1;34m(filepath_or_buffer, kwds)\u001b[0m\n\u001b[0;32m    455\u001b[0m \u001b[1;33m\u001b[0m\u001b[0m\n\u001b[0;32m    456\u001b[0m     \u001b[1;31m# Create the parser.\u001b[0m\u001b[1;33m\u001b[0m\u001b[1;33m\u001b[0m\u001b[1;33m\u001b[0m\u001b[0m\n\u001b[1;32m--> 457\u001b[1;33m     \u001b[0mparser\u001b[0m \u001b[1;33m=\u001b[0m \u001b[0mTextFileReader\u001b[0m\u001b[1;33m(\u001b[0m\u001b[0mfp_or_buf\u001b[0m\u001b[1;33m,\u001b[0m \u001b[1;33m**\u001b[0m\u001b[0mkwds\u001b[0m\u001b[1;33m)\u001b[0m\u001b[1;33m\u001b[0m\u001b[1;33m\u001b[0m\u001b[0m\n\u001b[0m\u001b[0;32m    458\u001b[0m \u001b[1;33m\u001b[0m\u001b[0m\n\u001b[0;32m    459\u001b[0m     \u001b[1;32mif\u001b[0m \u001b[0mchunksize\u001b[0m \u001b[1;32mor\u001b[0m \u001b[0miterator\u001b[0m\u001b[1;33m:\u001b[0m\u001b[1;33m\u001b[0m\u001b[1;33m\u001b[0m\u001b[0m\n",
      "\u001b[1;32m~\\Anaconda3\\lib\\site-packages\\pandas\\io\\parsers.py\u001b[0m in \u001b[0;36m__init__\u001b[1;34m(self, f, engine, **kwds)\u001b[0m\n\u001b[0;32m    893\u001b[0m             \u001b[0mself\u001b[0m\u001b[1;33m.\u001b[0m\u001b[0moptions\u001b[0m\u001b[1;33m[\u001b[0m\u001b[1;34m\"has_index_names\"\u001b[0m\u001b[1;33m]\u001b[0m \u001b[1;33m=\u001b[0m \u001b[0mkwds\u001b[0m\u001b[1;33m[\u001b[0m\u001b[1;34m\"has_index_names\"\u001b[0m\u001b[1;33m]\u001b[0m\u001b[1;33m\u001b[0m\u001b[1;33m\u001b[0m\u001b[0m\n\u001b[0;32m    894\u001b[0m \u001b[1;33m\u001b[0m\u001b[0m\n\u001b[1;32m--> 895\u001b[1;33m         \u001b[0mself\u001b[0m\u001b[1;33m.\u001b[0m\u001b[0m_make_engine\u001b[0m\u001b[1;33m(\u001b[0m\u001b[0mself\u001b[0m\u001b[1;33m.\u001b[0m\u001b[0mengine\u001b[0m\u001b[1;33m)\u001b[0m\u001b[1;33m\u001b[0m\u001b[1;33m\u001b[0m\u001b[0m\n\u001b[0m\u001b[0;32m    896\u001b[0m \u001b[1;33m\u001b[0m\u001b[0m\n\u001b[0;32m    897\u001b[0m     \u001b[1;32mdef\u001b[0m \u001b[0mclose\u001b[0m\u001b[1;33m(\u001b[0m\u001b[0mself\u001b[0m\u001b[1;33m)\u001b[0m\u001b[1;33m:\u001b[0m\u001b[1;33m\u001b[0m\u001b[1;33m\u001b[0m\u001b[0m\n",
      "\u001b[1;32m~\\Anaconda3\\lib\\site-packages\\pandas\\io\\parsers.py\u001b[0m in \u001b[0;36m_make_engine\u001b[1;34m(self, engine)\u001b[0m\n\u001b[0;32m   1133\u001b[0m     \u001b[1;32mdef\u001b[0m \u001b[0m_make_engine\u001b[0m\u001b[1;33m(\u001b[0m\u001b[0mself\u001b[0m\u001b[1;33m,\u001b[0m \u001b[0mengine\u001b[0m\u001b[1;33m=\u001b[0m\u001b[1;34m\"c\"\u001b[0m\u001b[1;33m)\u001b[0m\u001b[1;33m:\u001b[0m\u001b[1;33m\u001b[0m\u001b[1;33m\u001b[0m\u001b[0m\n\u001b[0;32m   1134\u001b[0m         \u001b[1;32mif\u001b[0m \u001b[0mengine\u001b[0m \u001b[1;33m==\u001b[0m \u001b[1;34m\"c\"\u001b[0m\u001b[1;33m:\u001b[0m\u001b[1;33m\u001b[0m\u001b[1;33m\u001b[0m\u001b[0m\n\u001b[1;32m-> 1135\u001b[1;33m             \u001b[0mself\u001b[0m\u001b[1;33m.\u001b[0m\u001b[0m_engine\u001b[0m \u001b[1;33m=\u001b[0m \u001b[0mCParserWrapper\u001b[0m\u001b[1;33m(\u001b[0m\u001b[0mself\u001b[0m\u001b[1;33m.\u001b[0m\u001b[0mf\u001b[0m\u001b[1;33m,\u001b[0m \u001b[1;33m**\u001b[0m\u001b[0mself\u001b[0m\u001b[1;33m.\u001b[0m\u001b[0moptions\u001b[0m\u001b[1;33m)\u001b[0m\u001b[1;33m\u001b[0m\u001b[1;33m\u001b[0m\u001b[0m\n\u001b[0m\u001b[0;32m   1136\u001b[0m         \u001b[1;32melse\u001b[0m\u001b[1;33m:\u001b[0m\u001b[1;33m\u001b[0m\u001b[1;33m\u001b[0m\u001b[0m\n\u001b[0;32m   1137\u001b[0m             \u001b[1;32mif\u001b[0m \u001b[0mengine\u001b[0m \u001b[1;33m==\u001b[0m \u001b[1;34m\"python\"\u001b[0m\u001b[1;33m:\u001b[0m\u001b[1;33m\u001b[0m\u001b[1;33m\u001b[0m\u001b[0m\n",
      "\u001b[1;32m~\\Anaconda3\\lib\\site-packages\\pandas\\io\\parsers.py\u001b[0m in \u001b[0;36m__init__\u001b[1;34m(self, src, **kwds)\u001b[0m\n\u001b[0;32m   1915\u001b[0m         \u001b[0mkwds\u001b[0m\u001b[1;33m[\u001b[0m\u001b[1;34m\"usecols\"\u001b[0m\u001b[1;33m]\u001b[0m \u001b[1;33m=\u001b[0m \u001b[0mself\u001b[0m\u001b[1;33m.\u001b[0m\u001b[0musecols\u001b[0m\u001b[1;33m\u001b[0m\u001b[1;33m\u001b[0m\u001b[0m\n\u001b[0;32m   1916\u001b[0m \u001b[1;33m\u001b[0m\u001b[0m\n\u001b[1;32m-> 1917\u001b[1;33m         \u001b[0mself\u001b[0m\u001b[1;33m.\u001b[0m\u001b[0m_reader\u001b[0m \u001b[1;33m=\u001b[0m \u001b[0mparsers\u001b[0m\u001b[1;33m.\u001b[0m\u001b[0mTextReader\u001b[0m\u001b[1;33m(\u001b[0m\u001b[0msrc\u001b[0m\u001b[1;33m,\u001b[0m \u001b[1;33m**\u001b[0m\u001b[0mkwds\u001b[0m\u001b[1;33m)\u001b[0m\u001b[1;33m\u001b[0m\u001b[1;33m\u001b[0m\u001b[0m\n\u001b[0m\u001b[0;32m   1918\u001b[0m         \u001b[0mself\u001b[0m\u001b[1;33m.\u001b[0m\u001b[0munnamed_cols\u001b[0m \u001b[1;33m=\u001b[0m \u001b[0mself\u001b[0m\u001b[1;33m.\u001b[0m\u001b[0m_reader\u001b[0m\u001b[1;33m.\u001b[0m\u001b[0munnamed_cols\u001b[0m\u001b[1;33m\u001b[0m\u001b[1;33m\u001b[0m\u001b[0m\n\u001b[0;32m   1919\u001b[0m \u001b[1;33m\u001b[0m\u001b[0m\n",
      "\u001b[1;32mpandas\\_libs\\parsers.pyx\u001b[0m in \u001b[0;36mpandas._libs.parsers.TextReader.__cinit__\u001b[1;34m()\u001b[0m\n",
      "\u001b[1;32mpandas\\_libs\\parsers.pyx\u001b[0m in \u001b[0;36mpandas._libs.parsers.TextReader._setup_parser_source\u001b[1;34m()\u001b[0m\n",
      "\u001b[1;31mFileNotFoundError\u001b[0m: [Errno 2] File b'Corp_Bond_AAA.csv' does not exist: b'Corp_Bond_AAA.csv'"
     ]
    }
   ],
   "source": [
    "# File path and loading data\n",
    "\n",
    "# File paths\n",
    "AAA = 'Corp_Bond_AAA.csv'\n",
    "BBB = 'Corp_Bond_BBB.csv'\n",
    "B = 'Corp_Bond_B.csv'\n",
    "\n",
    "# Bond Data \n",
    "Corp_Bond_AAA_df= pd.read_csv(AAA)\n",
    "Corp_Bond_BBB_df= pd.read_csv(BBB)\n",
    "Corp_Bond_B_df= pd.read_csv(B)\n",
    "\n",
    "combined_AAA_BBB = pd.merge(Corp_Bond_AAA_df,Corp_Bond_BBB_df, on='DATE')\n",
    "combined_AAA_BBB\n",
    "\n",
    "# Merging the Corporate B bond data\n",
    "combined_AAA_BBB_B = pd.merge(combined_AAA_BBB,Corp_Bond_B_df, on='DATE')\n",
    "combined_AAA_BBB_B"
   ]
  },
  {
   "cell_type": "code",
   "execution_count": null,
   "metadata": {},
   "outputs": [],
   "source": [
    "# Renaming the columns\n",
    "combined_AAA_BBB_B.columns = ['Date','AAA Rating','BBB Rating', 'B Rating'] "
   ]
  },
  {
   "cell_type": "code",
   "execution_count": null,
   "metadata": {},
   "outputs": [],
   "source": [
    "# Sorting by date \n",
    "combined_AAA_BBB_B = combined_AAA_BBB_B.sort_index(axis=0, ascending=False)\n",
    "combined_AAA_BBB_B\n",
    "\n",
    "# Converting the dates \n",
    "combined_AAA_BBB_B['Date'] = pd.to_datetime(combined_AAA_BBB_B['Date'])\n",
    "combined_AAA_BBB_B"
   ]
  },
  {
   "cell_type": "code",
   "execution_count": null,
   "metadata": {},
   "outputs": [],
   "source": [
    "# Bridging Treasury Data\n",
    "treasury_yields = 'US_Yield_Curve.csv'\n",
    "\n",
    "treasury_yield_df =pd.read_csv(treasury_yields)\n",
    "# Ordering the dates\n",
    "\n",
    "treasury_yield_df = treasury_yield_df.sort_index(axis=0, ascending=False)\n",
    "\n",
    "#Getting the dates\n",
    "treasury_yield_df['Date'] = pd.to_datetime(treasury_yield_df['Date'])\n",
    "treasury_yield_df\n",
    "\n",
    "# Keeping the same date range as above\n",
    "dated_treasury_yield_df = treasury_yield_df.loc[(treasury_yield_df['Date']>=\"1997-01-02\")]\n",
    "\n",
    "dated_treasury_yield_df"
   ]
  },
  {
   "cell_type": "code",
   "execution_count": null,
   "metadata": {},
   "outputs": [],
   "source": [
    "mid_curve_tsy_df = pd.DataFrame({'Date': dated_treasury_yield_df['Date'],\n",
    "                                 '2 Year':dated_treasury_yield_df['2 YR'],\n",
    "                                 '5 Year': dated_treasury_yield_df['5 YR'],\n",
    "                                 '10 Year': dated_treasury_yield_df['10 YR'],\n",
    "                                 '20 Year': dated_treasury_yield_df['20 YR']\n",
    "                                })\n",
    "mid_curve_tsy_df"
   ]
  },
  {
   "cell_type": "code",
   "execution_count": null,
   "metadata": {},
   "outputs": [],
   "source": [
    "corp_tsy_df = pd.merge_asof(combined_AAA_BBB_B,mid_curve_tsy_df,on='Date')\n",
    "corp_tsy_df\n",
    "\n",
    "# Dropping NaN values\n",
    "\n",
    "corp_tsy_df = corp_tsy_df.dropna()\n",
    "corp_tsy_df\n"
   ]
  },
  {
   "cell_type": "code",
   "execution_count": null,
   "metadata": {},
   "outputs": [],
   "source": [
    "# Plotting the raw data \n",
    "fig = plt.figure(figsize = (20,10))\n",
    "\n",
    "plt.plot(corp_tsy_df['Date'],corp_tsy_df['AAA Rating'],'-g')\n",
    "plt.plot(corp_tsy_df['Date'],corp_tsy_df['BBB Rating'],'-b')\n",
    "plt.plot(corp_tsy_df['Date'],corp_tsy_df['B Rating'],'-r')\n",
    "\n",
    "# Chart properties\n",
    "plt.title('Corporate Bond Yields Time Series')\n",
    "plt.ylabel('Yield level')\n",
    "plt.xlabel('Years')\n",
    "plt.grid(True)\n",
    "plt.show()"
   ]
  },
  {
   "cell_type": "code",
   "execution_count": null,
   "metadata": {},
   "outputs": [],
   "source": [
    "# DataFrame with spreads from the 5Y treasury\n",
    "spread_corp_df = pd.DataFrame({'Date':corp_tsy_df['Date'],\n",
    "                               'aaa': corp_tsy_df['AAA Rating'],\n",
    "                               'bbb': corp_tsy_df['BBB Rating'],\n",
    "                               'b': corp_tsy_df['B Rating'],\n",
    "                               '2 Year':corp_tsy_df['2 Year'],\n",
    "                                '5 Year': corp_tsy_df['5 Year'],\n",
    "                                '10 Year': corp_tsy_df['10 Year'],\n",
    "                                '20 Year': corp_tsy_df['20 Year'],\n",
    "                                'AAA-5Y': corp_tsy_df['AAA Rating'] - corp_tsy_df['5 Year'],\n",
    "                               'BBB-5Y': corp_tsy_df['BBB Rating'] - corp_tsy_df['5 Year'],\n",
    "                               'B-5Y': corp_tsy_df['B Rating'] - corp_tsy_df['5 Year']\n",
    "                               })\n",
    "\n",
    "spread_corp_df\n",
    "\n",
    "# Calculating returns on spreads\n",
    "\n",
    "# Generating lists to hold returns \n",
    "two_yr_return = []\n",
    "five_yr_return = []\n",
    "ten_yr_return = []\n",
    "twenty_yr_return = []\n",
    "AAA_five_yr_5Y_return = []\n",
    "BBB_five_yr_return = []\n",
    "B_five_yr_return = []\n",
    "\n",
    "# Generating the start prices\n",
    "two_yr_start_price = 5.97\n",
    "five_yr_start_price = 6.30\n",
    "ten_yr_start_price = 6.54\n",
    "twenty_yr__start_price = 6.85\n",
    "AAA_five_yr_start_price = 0.5\n",
    "BBB_five_yr_start_price = 1.06\n",
    "B_five_yr_start_price = 3.70\n",
    "\n",
    "# Looping through the dataframe to calculate the returns\n",
    "\n",
    "for index, row in spread_corp_df.iterrows():\n",
    "    two_yr_row = row['2 Year']\n",
    "    five_yr_row = row['5 Year']\n",
    "    ten_yr_row = row['10 Year']\n",
    "    twenty_yr_row = row['20 Year']\n",
    "    AAA_five_yr_row = row['AAA-5Y']\n",
    "    BBB_five_yr_row = row['BBB-5Y']\n",
    "    B_five_yr_row = row['B-5Y']\n",
    "    \n",
    "    # 2 year returns\n",
    "    daily_return_2yr = (two_yr_row - two_yr_start_price)/two_yr_start_price*100  \n",
    "    two_yr_return.append(round(daily_return_2yr,2))\n",
    "    two_yr_start_price = two_yr_row\n",
    "\n",
    "    # 5 year returns\n",
    "    daily_return_5yr = (five_yr_row - five_yr_start_price)/five_yr_start_price*100  \n",
    "    five_yr_return.append(round(daily_return_5yr,2))\n",
    "    five_yr_start_price = five_yr_row\n",
    "    \n",
    "    # 10 year returns\n",
    "    daily_return_10yr = (ten_yr_row - ten_yr_start_price)/ten_yr_start_price*100  \n",
    "    ten_yr_return.append(round(daily_return_10yr,2))\n",
    "    ten_yr_start_price = ten_yr_row\n",
    "    \n",
    "    # 20 year returns\n",
    "    daily_return_20yr = (twenty_yr_row - twenty_yr__start_price)/twenty_yr__start_price*100  \n",
    "    twenty_yr_return.append(round(daily_return_20yr,2))\n",
    "    twenty_yr__start_price = twenty_yr_row\n",
    "    \n",
    "    # AAA-5Y year returns\n",
    "    daily_return_AAA_5yr = (AAA_five_yr_row - AAA_five_yr_start_price)/AAA_five_yr_start_price*100  \n",
    "    AAA_five_yr_5Y_return.append(round(daily_return_AAA_5yr,2))\n",
    "    AAA_five_yr_start_price = AAA_five_yr_row\n",
    "    \n",
    "    # BBB-5Y year returns\n",
    "    daily_return_BBB_5yr = (BBB_five_yr_row - BBB_five_yr_start_price)/BBB_five_yr_start_price*100  \n",
    "    BBB_five_yr_return.append(round(daily_return_BBB_5yr,2))\n",
    "    BBB_five_yr_start_price = BBB_five_yr_row\n",
    "    \n",
    "    # B-5Y year returns\n",
    "    daily_return_B_5yr = (B_five_yr_row - B_five_yr_start_price)/B_five_yr_start_price*100  \n",
    "    B_five_yr_return.append(round(daily_return_B_5yr,2))\n",
    "    B_five_yr_start_price = B_five_yr_row\n",
    "\n",
    "spread_corp_df"
   ]
  },
  {
   "cell_type": "markdown",
   "metadata": {},
   "source": [
    "## Creating the spread returns dataframe"
   ]
  },
  {
   "cell_type": "code",
   "execution_count": null,
   "metadata": {},
   "outputs": [],
   "source": [
    "# Creating the dataframe with all the returns\n",
    "bond_spread_return_df = pd.DataFrame({'Date':corp_tsy_df['Date'],\n",
    "                               'aaa': corp_tsy_df['AAA Rating'],\n",
    "                               'bbb': corp_tsy_df['BBB Rating'],\n",
    "                               'b': corp_tsy_df['B Rating'],\n",
    "                               '2 Year':corp_tsy_df['2 Year'],\n",
    "                                '5 Year': corp_tsy_df['5 Year'],\n",
    "                                '10 Year': corp_tsy_df['10 Year'],\n",
    "                                '20 Year': corp_tsy_df['20 Year'],\n",
    "                                'AAA-5Y': corp_tsy_df['AAA Rating'] - corp_tsy_df['5 Year'],\n",
    "                               'BBB-5Y': corp_tsy_df['BBB Rating'] - corp_tsy_df['5 Year'],\n",
    "                               'B-5Y': corp_tsy_df['B Rating'] - corp_tsy_df['5 Year'],\n",
    "                               '2Yr Return': two_yr_return,\n",
    "                               '5Yr Return': five_yr_return,\n",
    "                               '10Yr Return': ten_yr_return,\n",
    "                                '20Yr Return': twenty_yr_return,\n",
    "                                 'AAA-5Yr Return':AAA_five_yr_5Y_return,\n",
    "                                 'BBB-5Yr Return':BBB_five_yr_return,\n",
    "                                 'B-5Yr Return':B_five_yr_return\n",
    "                               })\n",
    "bond_spread_return_df"
   ]
  },
  {
   "cell_type": "code",
   "execution_count": null,
   "metadata": {},
   "outputs": [],
   "source": [
    "# Plotting spreads to 5Y\n",
    "fig = plt.figure(figsize = (20,10))\n",
    "\n",
    "plt.plot(bond_spread_return_df['Date'],bond_spread_return_df['AAA-5Y'],'-g', label=\"AAA-5Yr Spread\")\n",
    "plt.plot(bond_spread_return_df['Date'],bond_spread_return_df['BBB-5Y'],'-b', label=\"BBB-5Yr Spread\")\n",
    "plt.plot(bond_spread_return_df['Date'],bond_spread_return_df['B-5Y'],'-r', label=\"B-5Yr Spread\")\n",
    "\n",
    "# Chart properties\n",
    "plt.title('Yield Spread - Corporates vs 5Y Treasuries')\n",
    "plt.grid(True)\n",
    "plt.ylabel('Spread level')\n",
    "plt.xlabel('Years')\n",
    "plt.legend()\n",
    "plt.savefig(\"Corp_Yield_Spreads.png\")\n",
    "plt.grid(True)\n",
    "plt.show()"
   ]
  },
  {
   "cell_type": "code",
   "execution_count": null,
   "metadata": {},
   "outputs": [],
   "source": [
    "# Bridging in S&P 500 price data and calculating daily returns\n",
    "\n",
    "sp500_price_data = 'S&P_500_1M_Futures.csv'\n",
    "\n",
    "# Read data into a dataframe\n",
    "sp500_1m_df = pd.read_csv(sp500_price_data)\n",
    "\n",
    "# Subset dataframe\n",
    "sp500_settle_price_df = pd.DataFrame({'Date':sp500_1m_df['Date'],\n",
    "                                      'Closing Price':sp500_1m_df['Settle']})\n",
    "\n",
    "# Ordering by dates and converting dates\n",
    "sp500_settle_price_df = sp500_settle_price_df.sort_index(axis=0,ascending=False)\n",
    "sp500_settle_price_df['Date'] = pd.to_datetime(sp500_settle_price_df['Date'])\n",
    "\n",
    "# Sorting by date \n",
    "sp500_settle_price_df = sp500_settle_price_df.loc[(sp500_settle_price_df['Date']>=\"1997-01-02\")]\n",
    "sp500_settle_price_df\n",
    "\n",
    "# Calculating S&P500 returns\n",
    "sp500_return = []\n",
    "\n",
    "start_price = 744.7\n",
    "\n",
    "for index, row in sp500_settle_price_df.iterrows():\n",
    "    close_row = row['Closing Price']\n",
    "    \n",
    "    # Calculation of returns\n",
    "    daily_return = (close_row - start_price)/start_price*100  \n",
    "    sp500_return.append(round(daily_return,2))\n",
    "    start_price = close_row\n",
    "\n",
    "# Inserting the returns to the main s&P500 returns \n",
    "sp500_settle_price_df.insert(2,\"S&P500 - Daily Returns\",sp500_return)\n",
    "sp500_settle_price_df"
   ]
  },
  {
   "cell_type": "markdown",
   "metadata": {},
   "source": [
    "## Merging Spread Returns and S&P500 Returns"
   ]
  },
  {
   "cell_type": "code",
   "execution_count": null,
   "metadata": {},
   "outputs": [],
   "source": [
    "# Combining the corporate spread data and the S&P data \n",
    "bond_sp500_spread_return_df = pd.merge_asof(bond_spread_return_df,sp500_settle_price_df,on='Date')\n",
    "\n",
    "bond_sp500_spread_return_df"
   ]
  },
  {
   "cell_type": "code",
   "execution_count": null,
   "metadata": {},
   "outputs": [],
   "source": [
    "# Creating subsets dataframe for spreads\n",
    "\n",
    "# LTCM Failure\n",
    "ltcm_df = bond_sp500_spread_return_df.loc[(bond_sp500_spread_return_df['Date']>='1997-08-01') & (bond_sp500_spread_return_df['Date']<='1999-08-01')]\n",
    "ltcm_df\n",
    "\n",
    "# S&P500\n",
    "ltcm_sp500 = bond_sp500_spread_return_df.loc[(bond_sp500_spread_return_df['Date']>='1997-08-01') & (bond_sp500_spread_return_df['Date']<='1999-08-01')]\n",
    "ltcm_sp500\n"
   ]
  },
  {
   "cell_type": "code",
   "execution_count": null,
   "metadata": {},
   "outputs": [],
   "source": [
    "# LTCM Chart\n",
    "\n",
    "fig1 = plt.figure(figsize = (20,10))\n",
    "\n",
    "ax3 = fig1.add_subplot(111)\n",
    "line3 = ax3.plot(ltcm_df['Date'],ltcm_df['B-5Y'],'-r')\n",
    "plt.ylabel(\"B-5Y Spread\")\n",
    "\n",
    "ax4 = fig1.add_subplot(111, sharex=ax3, frameon=False)\n",
    "line4 = ax4.plot(ltcm_sp500['Date'],ltcm_sp500['Closing Price'],'-m')\n",
    "ax4.yaxis.tick_right()\n",
    "plt.ylabel('S&P500 Price')\n",
    "\n",
    "\n",
    "#plt.plot(ltcm_df['Date'],ltcm_df['AAA-5Y'],'-g')\n",
    "#plt.plot(ltcm_df['Date'],ltcm_df['BBB-5Y'],'-b')\n",
    "#plt.plot(ltcm_df['Date'],ltcm_df['B-5Y'],'-r')\n",
    "\n",
    "# Chart properties\n",
    "plt.title('Yield Spread - Corporates vs 5Y Treasuries during Russian Crisis')\n",
    "plt.ylabel('Yield level')\n",
    "plt.xlabel('Years')\n",
    "plt.grid(True)\n",
    "plt.show()"
   ]
  },
  {
   "cell_type": "markdown",
   "metadata": {},
   "source": [
    "## Creating a subset dataframe for S&P vs Junk Bond returns for LTCM Crisis"
   ]
  },
  {
   "cell_type": "code",
   "execution_count": null,
   "metadata": {},
   "outputs": [],
   "source": [
    "# LTCM Complete DataFrame\n",
    "ltcm_sp500"
   ]
  },
  {
   "cell_type": "code",
   "execution_count": null,
   "metadata": {},
   "outputs": [],
   "source": [
    "# Subset Returns DataFrame\n",
    "ltcm_returns_df = pd.DataFrame({'Date':ltcm_sp500['Date'],\n",
    "                                'SP500 Price': ltcm_sp500['Closing Price'],\n",
    "                                'B-5Year Spread': ltcm_sp500['B-5Y'],\n",
    "                                'B-5Yr': ltcm_sp500['B-5Yr Return'],\n",
    "                                'S&P500': ltcm_sp500['S&P500 - Daily Returns']})\n",
    "ltcm_returns_df\n",
    "\n",
    "# Plotting the returns\n",
    "fig = plt.figure(figsize = (20,10))\n",
    "\n",
    "plt.plot(ltcm_returns_df['Date'],ltcm_returns_df['S&P500'],'-g')\n",
    "plt.plot(ltcm_returns_df['Date'],ltcm_returns_df['B-5Yr'],'-r')\n",
    "plt.grid(True)\n",
    "plt.show()\n",
    "#plt.plot(ltcm_returns_df['Date'],ltcm_returns_df['B-5Yr Return'],'-r')"
   ]
  },
  {
   "cell_type": "markdown",
   "metadata": {},
   "source": [
    "## Correlation Analysis - LTCM/Russian Debt Crisis"
   ]
  },
  {
   "cell_type": "code",
   "execution_count": null,
   "metadata": {},
   "outputs": [],
   "source": [
    "# Correlation between s&p returns and B-5year spread\n",
    "SP_Return = ltcm_returns_df['S&P500']\n",
    "B_five_Yr_Return = ltcm_returns_df['B-5Yr']\n",
    "Correl = SP_Return.corr(B_five_Yr_Return)\n",
    "print('Correlation between S&P and B-5year spread is:' + str(Correl))\n",
    "\n",
    "\n",
    "fig1 = plt.figure(figsize = (20,10))\n",
    "\n",
    "ax3 = fig1.add_subplot(111)\n",
    "line3 = ax3.plot(ltcm_df['Date'],ltcm_df['B-5Y'],'-r')\n",
    "plt.ylabel(\"B-5Y Spread\")\n",
    "\n",
    "ax4 = fig1.add_subplot(111, sharex=ax3, frameon=False)\n",
    "line4 = ax4.plot(ltcm_sp500['Date'],ltcm_sp500['Closing Price'],'-m')\n",
    "ax4.yaxis.tick_right()\n",
    "plt.ylabel('S&P500 Price')\n",
    "\n",
    "plt.grid(True)\n",
    "\n",
    "# Correlation inputs\n",
    "rolling_window = 20\n",
    "\n",
    "# Calculating the Rolling correlation\n",
    "fig = plt.figure(figsize = (20,10))\n",
    "rolling_correl = ltcm_returns_df['B-5Yr'].rolling(window=rolling_window).corr(ltcm_returns_df['S&P500']).plot()\n",
    "plt.grid(True)\n",
    "plt.show(rolling_correl)\n"
   ]
  },
  {
   "cell_type": "code",
   "execution_count": null,
   "metadata": {},
   "outputs": [],
   "source": [
    "# Looks like from the above that there could be some signal given when correlation hits the lows"
   ]
  },
  {
   "cell_type": "code",
   "execution_count": null,
   "metadata": {},
   "outputs": [],
   "source": [
    "ltcm_returns_df\n",
    "\n",
    "new_ltcm_returns_df = ltcm_returns_df\n",
    "\n",
    "new_ltcm_returns_df['Correlation'] = ltcm_returns_df['B-5Yr'].rolling(window=rolling_window).corr(ltcm_returns_df['S&P500'])\n",
    "new_ltcm_returns_df"
   ]
  },
  {
   "cell_type": "markdown",
   "metadata": {},
   "source": [
    "## Analysis over financial downturns"
   ]
  },
  {
   "cell_type": "code",
   "execution_count": null,
   "metadata": {},
   "outputs": [],
   "source": [
    "bond_sp500_spread_return_df"
   ]
  },
  {
   "cell_type": "code",
   "execution_count": null,
   "metadata": {},
   "outputs": [],
   "source": [
    "# Graphing the S&P500 to identify the crisis scenarios\n",
    "\n",
    "fig1 = plt.figure(figsize = (20,10))\n",
    "plt.plot(bond_sp500_spread_return_df['Date'],bond_sp500_spread_return_df['Closing Price'],'-m')\n",
    "plt.title('S&P500 01-01-1997 to 03-19-2020')\n",
    "plt.xlabel('Years')\n",
    "plt.ylabel('Index Level')\n",
    "plt.grid(True)\n",
    "plt.show()"
   ]
  },
  {
   "cell_type": "markdown",
   "metadata": {},
   "source": [
    "## Internet Bubble"
   ]
  },
  {
   "cell_type": "code",
   "execution_count": null,
   "metadata": {},
   "outputs": [],
   "source": [
    "# Dividing the dataframe into subset for the internet bubble\n",
    "bond_sp500_spread_return_df\n",
    "\n",
    "dotcom_df = bond_sp500_spread_return_df.loc[(bond_sp500_spread_return_df['Date']>='1997-08-01') & (bond_sp500_spread_return_df['Date']<='2003-08-01')]\n",
    "\n",
    "# Variables for the dataframe\n",
    "SP_500 = dotcom_df['Closing Price']\n",
    "SP_500_returns = dotcom_df['S&P500 - Daily Returns']\n",
    "B_five_year_spread_level = dotcom_df['B-5Y']\n",
    "B_five_year_spread_return = dotcom_df['B-5Yr Return']\n",
    "\n",
    "# Rolling Correlation\n",
    "Rolling_window = 100\n",
    "no_of_std = 2\n",
    "\n",
    "correl = dotcom_df['S&P500 - Daily Returns'].rolling(window=Rolling_window).corr(dotcom_df['B-5Yr Return'])\n",
    "\n",
    "# Standard Deviation from mean\n",
    "std_correl = correl.rolling(window=Rolling_window).std()\n",
    "\n",
    "# Upper and lower bounds for correl\n",
    "upper_correl = correl + (std_correl * no_of_std )\n",
    "lower_correl = correl - (std_correl * no_of_std )\n",
    "\n",
    "# Generating the dataframe\n",
    "SP500_vs_B_five_yr_df = pd.DataFrame({'Date': dotcom_df['Date'],\n",
    "                                      'S&P500 Level': SP_500,\n",
    "                                      'S&P500 Returns': SP_500_returns,\n",
    "                                      'B-5year Spread Level':B_five_year_spread_level,\n",
    "                                      'B-5year Spread Return': B_five_year_spread_return,\n",
    "                                      'S&P500/B-5year Spread Correl':correl,\n",
    "                                     'Upper Band Correl':upper_correl,\n",
    "                                    'Lower Band Correl':lower_correl})\n",
    "SP500_vs_B_five_yr_df"
   ]
  },
  {
   "cell_type": "code",
   "execution_count": null,
   "metadata": {
    "scrolled": false
   },
   "outputs": [],
   "source": [
    "# Generating the chart\n",
    "fig1 = plt.figure(figsize = (20,10))\n",
    "\n",
    "ax3 = fig1.add_subplot(111)\n",
    "line3 = ax3.plot(SP500_vs_B_five_yr_df['Date'],SP500_vs_B_five_yr_df['B-5year Spread Level'],'-r')\n",
    "plt.ylabel(\"B-5Y Spread\")\n",
    "\n",
    "ax4 = fig1.add_subplot(111, sharex=ax3, frameon=False)\n",
    "line4 = ax4.plot(SP500_vs_B_five_yr_df['Date'],SP500_vs_B_five_yr_df['S&P500 Level'],'-m')\n",
    "ax4.yaxis.tick_right()\n",
    "plt.ylabel('S&P500 Price')\n",
    "\n",
    "plt.grid(True)\n",
    "\n",
    "plt.title('B Bond - 5Year Tresury Spread vs S&P500')\n",
    "\n",
    "# Generating the correlations chart\n",
    "fig2 = plt.figure(figsize = (20,10))\n",
    "plt.plot(SP500_vs_B_five_yr_df['Date'],SP500_vs_B_five_yr_df['S&P500/B-5year Spread Correl'],\"-b\", label= \"Rolling Correl\")\n",
    "# plt.plot(SP500_vs_B_five_yr_df['Date'],SP500_vs_B_five_yr_df['Upper Band Correl'],\"-g\")\n",
    "# plt.plot(SP500_vs_B_five_yr_df['Date'],SP500_vs_B_five_yr_df['Lower Band Correl'],\"-r\")\n",
    "\n",
    "plt.grid(True)\n",
    "plt.show()"
   ]
  },
  {
   "cell_type": "code",
   "execution_count": null,
   "metadata": {},
   "outputs": [],
   "source": []
  },
  {
   "cell_type": "code",
   "execution_count": null,
   "metadata": {},
   "outputs": [],
   "source": [
    "# Dividing the dataframe into subset for the internet bubble\n",
    "bond_sp500_spread_return_df\n",
    "\n",
    "coronavirus_df = bond_sp500_spread_return_df.loc[(bond_sp500_spread_return_df['Date']>='2017-01-01') & (bond_sp500_spread_return_df['Date']<='2020-03-19')]\n",
    "\n",
    "# Variables for the dataframe\n",
    "SP_500 = coronavirus_df['Closing Price']\n",
    "SP_500_returns = coronavirus_df['S&P500 - Daily Returns']\n",
    "B_five_year_spread_level = coronavirus_df['B-5Y']\n",
    "B_five_year_spread_return = coronavirus_df['B-5Yr Return']\n",
    "\n",
    "# Rolling Correlation\n",
    "Rolling_window = 55\n",
    "Rolling_correl =55\n",
    "no_of_std = 2\n",
    "\n",
    "correl = coronavirus_df['S&P500 - Daily Returns'].rolling(window=Rolling_window).corr(coronavirus_df['B-5Yr Return'])\n",
    "\n",
    "correl_mean = correl.rolling(window=Rolling_correl).mean()\n",
    "print(correl_mean)\n",
    "\n",
    "# Standard Deviation from mean\n",
    "std_correl = correl.rolling(window=Rolling_correl).std()\n",
    "\n",
    "# Upper and lower bounds for correl\n",
    "upper_correl = correl_mean + (std_correl * no_of_std )\n",
    "lower_correl = correl_mean - (std_correl * no_of_std )\n",
    "\n",
    "# Generating the dataframe\n",
    "SP500_vs_B_five_yr_corona_df = pd.DataFrame({'Date': coronavirus_df['Date'],\n",
    "                                      'S&P500 Level': SP_500,\n",
    "                                      'S&P500 Returns': SP_500_returns,\n",
    "                                      'B-5year Spread Level':B_five_year_spread_level,\n",
    "                                      'B-5year Spread Return': B_five_year_spread_return,\n",
    "                                      'S&P500/B-5year Spread Correl':correl,\n",
    "                                      'Correl Mean':correl_mean,\n",
    "                                     'Upper Band Correl':upper_correl,\n",
    "                                    'Lower Band Correl':lower_correl})\n",
    "SP500_vs_B_five_yr_corona_df"
   ]
  },
  {
   "cell_type": "code",
   "execution_count": null,
   "metadata": {},
   "outputs": [],
   "source": [
    "# Generating the chart\n",
    "fig1 = plt.figure(figsize = (20,10))\n",
    "\n",
    "ax3 = fig1.add_subplot(111)\n",
    "line3 = ax3.plot(SP500_vs_B_five_yr_corona_df['Date'],SP500_vs_B_five_yr_corona_df['B-5year Spread Level'],'-r', label=\"B-5Yr Spread\")\n",
    "plt.ylabel(\"B-5Y Spread\")\n",
    "\n",
    "ax4 = fig1.add_subplot(111, sharex=ax3, frameon=False)\n",
    "line4 = ax4.plot(SP500_vs_B_five_yr_corona_df['Date'],SP500_vs_B_five_yr_corona_df['S&P500 Level'],'-m', label=\"S&P500\")\n",
    "ax4.yaxis.tick_right()\n",
    "plt.title(\"S&P500 Vs Corporate Spreads January 2017 - February 2020\")\n",
    "plt.ylabel('S&P500 Price')\n",
    "plt.savefig(\"SPX_5Yr.png\")\n",
    "plt.grid(True)\n",
    "\n",
    "plt.title('B Bond - 5Year Tresury Spread vs S&P500')\n",
    "\n",
    "ax3.legend((line3+line4),(\"B-5yr Spread\",\"S&P500 Level\"))\n",
    "\n",
    "# Generating the correlations chart\n",
    "fig = plt.figure(figsize = (20,10))\n",
    "plt.plot(SP500_vs_B_five_yr_corona_df['Date'],SP500_vs_B_five_yr_corona_df['S&P500/B-5year Spread Correl'],\"-b\", label=\"Rolling Correl\")\n",
    "plt.plot(SP500_vs_B_five_yr_corona_df['Date'],SP500_vs_B_five_yr_corona_df['Upper Band Correl'],\"-r\", label=\"+2std\")\n",
    "plt.plot(SP500_vs_B_five_yr_corona_df['Date'],SP500_vs_B_five_yr_corona_df['Lower Band Correl'],\"-r\", label=\"-2std\")\n",
    "plt.plot(SP500_vs_B_five_yr_corona_df['Date'],SP500_vs_B_five_yr_corona_df['Correl Mean'],\"-g\", label=\"Rolling Mean\")\n",
    "\n",
    "\n",
    "plt.legend()\n",
    "plt.ylabel('Correlation Coefficient')\n",
    "plt.title('Rolling Returns Correlation January 1st, 2017 to March 19th, 2020')\n",
    "plt.savefig(\"Correlation_signals_2017_2020.png\")\n",
    "plt.grid(True)\n",
    "plt.show()"
   ]
  },
  {
   "cell_type": "markdown",
   "metadata": {},
   "source": [
    "## Global Financial Crisis"
   ]
  },
  {
   "cell_type": "code",
   "execution_count": null,
   "metadata": {},
   "outputs": [],
   "source": [
    "# Dividing the dataframe into subset for the internet bubble\n",
    "bond_sp500_spread_return_df\n",
    "\n",
    "global_financial_df = bond_sp500_spread_return_df.loc[(bond_sp500_spread_return_df['Date']>='2007-01-01') & (bond_sp500_spread_return_df['Date']<='2011-12-31')]\n",
    "\n",
    "# Variables for the dataframe\n",
    "SP_500 = global_financial_df['Closing Price']\n",
    "SP_500_returns = global_financial_df['S&P500 - Daily Returns']\n",
    "B_five_year_spread_level = global_financial_df['B-5Y']\n",
    "B_five_year_spread_return = global_financial_df['B-5Yr Return']\n",
    "\n",
    "# Rolling Correlation\n",
    "Rolling_window = 200\n",
    "Rolling_correl =200\n",
    "no_of_std = 2\n",
    "\n",
    "correl = global_financial_df['S&P500 - Daily Returns'].rolling(window=Rolling_window).corr(global_financial_df['B-5Yr Return'])\n",
    "\n",
    "correl_mean = correl.rolling(window=Rolling_correl).mean()\n",
    "print(correl_mean)\n",
    "\n",
    "# Standard Deviation from mean\n",
    "std_correl = correl.rolling(window=Rolling_correl).std()\n",
    "\n",
    "# Upper and lower bounds for correl\n",
    "upper_correl = correl_mean + (std_correl * no_of_std )\n",
    "lower_correl = correl_mean - (std_correl * no_of_std )\n",
    "\n",
    "# Generating the dataframe\n",
    "SP500_vs_B_five_yr_global_financial_df = pd.DataFrame({'Date': global_financial_df['Date'],\n",
    "                                      'S&P500 Level': SP_500,\n",
    "                                      'S&P500 Returns': SP_500_returns,\n",
    "                                      'B-5year Spread Level':B_five_year_spread_level,\n",
    "                                      'B-5year Spread Return': B_five_year_spread_return,\n",
    "                                      'S&P500/B-5year Spread Correl':correl,\n",
    "                                      'Correl Mean':correl_mean,\n",
    "                                     'Upper Band Correl':upper_correl,\n",
    "                                    'Lower Band Correl':lower_correl})\n",
    "SP500_vs_B_five_yr_global_financial_df"
   ]
  },
  {
   "cell_type": "markdown",
   "metadata": {},
   "source": [
    "## Plotting Global Financial Downturn"
   ]
  },
  {
   "cell_type": "code",
   "execution_count": null,
   "metadata": {},
   "outputs": [],
   "source": [
    "# Generating the chart\n",
    "fig1 = plt.figure(figsize = (20,10))\n",
    "\n",
    "ax3 = fig1.add_subplot(111)\n",
    "line3 = ax3.plot(SP500_vs_B_five_yr_global_financial_df['Date'],SP500_vs_B_five_yr_global_financial_df['B-5year Spread Level'],'-r')\n",
    "plt.ylabel(\"B-5Y Spread\")\n",
    "\n",
    "ax4 = fig1.add_subplot(111, sharex=ax3, frameon=False)\n",
    "line4 = ax4.plot(SP500_vs_B_five_yr_global_financial_df['Date'],SP500_vs_B_five_yr_global_financial_df['S&P500 Level'],'-m')\n",
    "ax4.yaxis.tick_right()\n",
    "plt.ylabel('S&P500 Price')\n",
    "\n",
    "plt.grid(True)\n",
    "\n",
    "plt.title('B Bond - 5Year Tresury Spread vs S&P500')\n",
    "\n",
    "# Generating the correlations chart\n",
    "fig2 = plt.figure(figsize = (20,10))\n",
    "plt.plot(SP500_vs_B_five_yr_global_financial_df['Date'],SP500_vs_B_five_yr_global_financial_df['S&P500/B-5year Spread Correl'],\"-b\", label=\"Correl\")\n",
    "plt.plot(SP500_vs_B_five_yr_global_financial_df['Date'],SP500_vs_B_five_yr_global_financial_df['Upper Band Correl'],\"-r\", label=\"+2std\")\n",
    "plt.plot(SP500_vs_B_five_yr_global_financial_df['Date'],SP500_vs_B_five_yr_global_financial_df['Lower Band Correl'],\"-r\", label=\"-2std\")\n",
    "plt.plot(SP500_vs_B_five_yr_global_financial_df['Date'],SP500_vs_B_five_yr_global_financial_df['Correl Mean'],\"-g\", label=\"Mean\")\n",
    "\n",
    "plt.ylabel('Correlation Coefficient')\n",
    "plt.title('Rolling Returns Correlation January 1st, 2007 to December 31st, 2011')\n",
    "plt.grid(True)\n",
    "plt.show()"
   ]
  },
  {
   "cell_type": "code",
   "execution_count": null,
   "metadata": {},
   "outputs": [],
   "source": []
  }
 ],
 "metadata": {
  "kernelspec": {
   "display_name": "Python 3",
   "language": "python",
   "name": "python3"
  },
  "language_info": {
   "codemirror_mode": {
    "name": "ipython",
    "version": 3
   },
   "file_extension": ".py",
   "mimetype": "text/x-python",
   "name": "python",
   "nbconvert_exporter": "python",
   "pygments_lexer": "ipython3",
   "version": "3.7.4"
  }
 },
 "nbformat": 4,
 "nbformat_minor": 2
}
