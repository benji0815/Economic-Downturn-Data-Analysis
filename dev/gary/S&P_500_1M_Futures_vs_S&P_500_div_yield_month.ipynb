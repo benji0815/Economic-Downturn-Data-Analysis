{
 "cells": [
  {
   "cell_type": "code",
   "execution_count": null,
   "metadata": {},
   "outputs": [],
   "source": [
    "#Starter File \n",
    "\n",
    "import matplotlib.pyplot as plt\n",
    "import pandas as pd\n",
    "import scipy.stats as st\n",
    "import numpy as np\n",
    "from datetime import datetime\n",
    "from scipy.stats import linregress\n",
    "from pandas.plotting import register_matplotlib_converters\n",
    "register_matplotlib_converters()"
   ]
  },
  {
   "cell_type": "code",
   "execution_count": null,
   "metadata": {},
   "outputs": [],
   "source": [
    "sp_500_div_yield_month = \"S&P_500_div_yield_month.csv\"\n",
    "us_yield_curve = \"US_Yield_Curve.csv\"\n",
    "sp_500_1m_futures = \n",
    "\n",
    "sp_500_div_yield_month = pd.read_csv(sp_500_div_yield_month)\n",
    "us_yield_curve = pd.read_csv(us_yield_curve)\n",
    "\n",
    "sp_500_div_yield_month_df = pd.DataFrame(sp_500_div_yield_month)\n",
    "us_yield_curve_df = pd.DataFrame(us_yield_curve)\n",
    "\n",
    "print(sp_500_div_yield_month_df.shape)\n",
    "print(us_yield_curve_df.shape)"
   ]
  }
 ],
 "metadata": {
  "kernelspec": {
   "display_name": "Python 3",
   "language": "python",
   "name": "python3"
  },
  "language_info": {
   "codemirror_mode": {
    "name": "ipython",
    "version": 3
   },
   "file_extension": ".py",
   "mimetype": "text/x-python",
   "name": "python",
   "nbconvert_exporter": "python",
   "pygments_lexer": "ipython3",
   "version": "3.7.4"
  }
 },
 "nbformat": 4,
 "nbformat_minor": 2
}
